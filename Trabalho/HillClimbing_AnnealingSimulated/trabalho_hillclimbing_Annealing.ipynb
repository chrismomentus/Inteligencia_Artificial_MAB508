{
  "nbformat": 4,
  "nbformat_minor": 0,
  "metadata": {
    "colab": {
      "name": "trabalho_hillclimbing_Annealing.ipynb",
      "provenance": []
    },
    "kernelspec": {
      "display_name": "Python 3",
      "name": "python3"
    },
    "language_info": {
      "name": "python"
    }
  },
  "cells": [
    {
      "cell_type": "markdown",
      "metadata": {
        "id": "Gtk7R7enf9WO"
      },
      "source": [
        "Alunos: \n",
        "*   Chris G. Chinedozie - DRE: 114197959\n",
        "*   Gabriela Silva - DRE: 117154510\n",
        "\n",
        "\n",
        "Fontes:\n",
        "1.   [Hill Climbing Algorithm | Hill Climbing in Artificial Intelligence | Data Science Tutorial | Edureka](https://www.youtube.com/watch?v=_ThdIOA9Lbk)\n",
        "2.   [Algoritmos de otimização: Hill Climbing e Simulated Annealing](https://medium.com/data-hackers/algoritmos-de-otimiza%C3%A7%C3%A3o-hill-climbing-e-simulated-annealing-3803061f66f0)\n",
        "\n"
      ]
    },
    {
      "cell_type": "code",
      "metadata": {
        "id": "s5H19KtJmXgK"
      },
      "source": [
        "from random import randint\n",
        "import sys\n",
        "from random import uniform\n",
        "from math import exp"
      ],
      "execution_count": null,
      "outputs": []
    },
    {
      "cell_type": "markdown",
      "metadata": {
        "id": "y6Dp4Q1OFXL5"
      },
      "source": [
        "\n",
        "\n",
        "> IMPLEMENTAÇÃO\n",
        "\n",
        "\n",
        "1.   Defina uma função que dado o tamanho do tabuleiro N, retorna um tabuleiro N×N com N rainhas. O tabuleiro deve ser gerado de maneira aleatoria.\n",
        "\n",
        "4. Defina uma função que dado um tabuleiro qualquer, retorna a avaliação deste tabuleiro (numero de ataques entre as rainhas).\n",
        "\n",
        "\n"
      ]
    },
    {
      "cell_type": "code",
      "metadata": {
        "id": "1mJxlJaOfzW8"
      },
      "source": [
        "#criar tabuleiro de uma lista de tamanho N (N = numero de rainhas)\n",
        "#cada elemento da lista poderá ir de zero a N\n",
        "def criar_Tabuleiro(num_de_Rainhas):\n",
        "  tabuleiro = []\n",
        "  for i in range(0, num_de_Rainhas):\n",
        "    tabuleiro.append(randint(1, num_de_Rainhas))\n",
        "  print(\"O tabuleiro foi criado:\")\n",
        "  return tabuleiro\n",
        "\n",
        "# Para cada rainha no tabuleiro, busca quantos ataques são possíveis na horizontal\n",
        "def buscarNumeroDeAtaquesNaHorizontal(tabuleiro):\n",
        "    numeroDeAtaques = 0\n",
        "    for posicaoRainha in range (0,len(tabuleiro)):\n",
        "        for possivelAtaqueNaDireita in range (posicaoRainha,len(tabuleiro)):\n",
        "            if possivelAtaqueNaDireita == posicaoRainha:\n",
        "                continue \n",
        "\n",
        "            elif tabuleiro[posicaoRainha] == tabuleiro[possivelAtaqueNaDireita]:\n",
        "                numeroDeAtaques += 1 \n",
        "                break           \n",
        "    return numeroDeAtaques\n",
        "\n",
        "# Analisa o tabuleiro no sentido nordeste de cada rainha, contando o número de ataques possíveis no diagonal\n",
        "def buscarNumeroDeAtaquesNoNordeste(tabuleiro):\n",
        "    numeroDeAtaques = 0\n",
        "\n",
        "    for posicaoRainha in range (0,len(tabuleiro)):\n",
        "        mapeiaDiagonal = tabuleiro[posicaoRainha]\n",
        "        for posicaoHorizontal in range (posicaoRainha + 1, len(tabuleiro)):\n",
        "            mapeiaDiagonal -= 1\n",
        "\n",
        "            if tabuleiro[posicaoHorizontal] == mapeiaDiagonal:\n",
        "                numeroDeAtaques += 1\n",
        "                break\n",
        "    return numeroDeAtaques\n",
        "\n",
        "# Analisa o tabuleiro no sentido sudeste de cada rainha, contando o número de ataques possíveis nos diagonal\n",
        "def buscarNumeroDeAtaquesNoSudeste(tabuleiro):\n",
        "    numeroDeAtaques = 0\n",
        "\n",
        "    for posicaoRainha in range (0,len(tabuleiro)):\n",
        "        mapeiaDiagonal = tabuleiro[posicaoRainha]\n",
        "        for posicaoHorizontal in range (posicaoRainha + 1, len(tabuleiro)):\n",
        "            mapeiaDiagonal += 1\n",
        "\n",
        "            if tabuleiro[posicaoHorizontal] == mapeiaDiagonal:\n",
        "                numeroDeAtaques += 1\n",
        "                break\n",
        "    return numeroDeAtaques\n",
        "  \n",
        "def buscarNumeroDeAtaquesNaVertical(tabuleiro):\n",
        "  #TO-DO\n",
        "  ataque_vertical = buscarNumeroDeAtaquesNoNordeste(tabuleiro) + buscarNumeroDeAtaquesNoSudeste(tabuleiro)\n",
        "  return ataque_vertical\n",
        "\n",
        "# Como a heurística é baseada em números de ataques. Esta função retorna quantos ataques são possíveis no tabuleiro\n",
        "def num_Ataques_No_Tabuleiro(tabuleiro):\n",
        "  num_de_ataques = buscarNumeroDeAtaquesNaHorizontal(tabuleiro) + buscarNumeroDeAtaquesNaVertical(tabuleiro)\n",
        "  print(num_de_ataques)\n",
        "  return num_de_ataques\n",
        "\n",
        "#8,16,32,64\n",
        "#criar_Tabuleiro(8) "
      ],
      "execution_count": null,
      "outputs": []
    },
    {
      "cell_type": "markdown",
      "metadata": {
        "id": "3wRd2wAqF1Fv"
      },
      "source": [
        "2. Defina uma função que dado um tabuleiro qualquer, retorna todos os seus vizinhos.\n",
        "3.  Defina uma função que dado um tabulleiro qualquer, retorna um de seus vizinhos. A escolha do vizinho a ser retornado pela função deve ser aleatoria."
      ]
    },
    {
      "cell_type": "code",
      "metadata": {
        "id": "RVh2a9JBsYx_"
      },
      "source": [
        "#Entre um conjunto de tabuleiro, retorna o tabuleiro com o melhor heuristica\n",
        "def busca_primeiro_melhorVizinho(tabuleiro, vizinhos):\n",
        "  melhor_Vizinho = tabuleiro\n",
        "  #uma busca de ataques\n",
        "  melhor_Heuristica = num_Ataques_No_Tabuleiro(tabuleiro)\n",
        "\n",
        "  for vizinho in vizinhos:\n",
        "    heuristica_Vizinho = num_Ataques_No_Tabuleiro(vizinho)\n",
        "    if heuristica_Vizinho < melhor_Heuristica:\n",
        "      melhor_Heuristica = heuristica_Vizinho\n",
        "      melhor_Vizinho = vizinho\n",
        "      break\n",
        "  \n",
        "  print(\"O primeiro melhor vizinho encontrado foi:\")\n",
        "  print(melhor_Vizinho)\n",
        "  print(\"Com o heuristica de valor: \")\n",
        "  print(melhor_Heuristica)\n",
        "  return [melhor_Vizinho, melhor_Heuristica, len(vizinhos)]\n",
        "\n",
        "# Busca e retornar todos os vizinhos do tabuleiro em questão\n",
        "def recuperaVizinhosDeTabulero(tabuleiro):\n",
        "    vizinhos_De_Tabuleiro = [] \n",
        "    \n",
        "    for identificadorDaRainha in range (0, len(tabuleiro)):\n",
        "        for posicaoDaRainha in range (1, len(tabuleiro)+1):\n",
        "            \n",
        "            if posicaoDaRainha == tabuleiro[identificadorDaRainha] : \n",
        "                continue\n",
        "    \n",
        "            vizinho = tabuleiro.copy()\n",
        "            vizinho[identificadorDaRainha] = posicaoDaRainha\n",
        "            vizinhos_De_Tabuleiro.append(vizinho)\n",
        "\n",
        "    return vizinhos_De_Tabuleiro\n",
        "\n",
        "\n",
        "\n"
      ],
      "execution_count": null,
      "outputs": []
    },
    {
      "cell_type": "markdown",
      "metadata": {
        "id": "_IWnqc2oG6Jh"
      },
      "source": [
        "# Hill Climbing\n",
        "1. Implementação Hill Climbing\n"
      ]
    },
    {
      "cell_type": "code",
      "metadata": {
        "id": "Uu_FHsuCoUrY",
        "colab": {
          "base_uri": "https://localhost:8080/"
        },
        "outputId": "91463e67-a53f-4019-819c-e8739c7e4277"
      },
      "source": [
        " #Simula o problema Usando Hillclimbing\n",
        "def problema_N_Rainha_com_HillClimbing(num_de_Rainhas):\n",
        "  tabuleiro = criar_Tabuleiro(num_de_Rainhas)\n",
        "\n",
        "  tabuleiro_Atual = tabuleiro\n",
        "  heuristicaAtual = sys.maxsize\n",
        "  cont_heuristica_Repetida = 0\n",
        "  cont_Tabuleiro_Gerados = 0\n",
        "\n",
        "  print(\"----------------------------------------------------\")\n",
        "\n",
        "  while(True):\n",
        "    \n",
        "    melhor_vizinho_comHeuristica = busca_primeiro_melhorVizinho(tabuleiro_Atual, recuperaVizinhosDeTabulero(tabuleiro_Atual))\n",
        "    print(\"melhor_vizinho_comHeuristica\")\n",
        "    print(melhor_vizinho_comHeuristica)\n",
        "    cont_Tabuleiro_Gerados +=  melhor_vizinho_comHeuristica[2]\n",
        "\n",
        "    if heuristicaAtual == melhor_vizinho_comHeuristica[1]:\n",
        "      cont_heuristica_Repetida += 1\n",
        "    \n",
        "    if heuristicaAtual > melhor_vizinho_comHeuristica[1]:\n",
        "      cont_heuristica_Repetida = 0\n",
        "      tabuleiro_Atual = melhor_vizinho_comHeuristica[0]\n",
        "      heuristicaAtual = melhor_vizinho_comHeuristica[1]\n",
        "\n",
        "    if cont_heuristica_Repetida > 3:\n",
        "      print(\"foi encontrado um ombro, terminamos a execução...\")\n",
        "      break\n",
        "    \n",
        "    if heuristicaAtual == 0:\n",
        "      print(\"Solução Encontrada!!\")\n",
        "      print(\"A solução do problema será:\")\n",
        "      print(tabuleiro_Atual)\n",
        "      break\n",
        "\n",
        "  print(\"==================================================\")\n",
        "  return [tabuleiro_Atual, heuristicaAtual, cont_Tabuleiro_Gerados]\n",
        "\n",
        "problema_N_Rainha_com_HillClimbing(4)\n",
        "#problema_N_Rainha_com_HillClimbing(8)\n",
        "#problema_N_Rainha_com_HillClimbing(16)\n",
        "#problema_N_Rainha_com_HillClimbing(32)"
      ],
      "execution_count": null,
      "outputs": [
        {
          "output_type": "stream",
          "text": [
            "O tabuleiro foi criado:\n",
            "----------------------------------------------------\n",
            "----------------------------------------------------\n",
            "4\n",
            "3\n",
            "O primeiro melhor vizinho encontrado foi:\n",
            "[2, 2, 2, 1]\n",
            "Com o heuristica de valor: \n",
            "3\n",
            "melhor_vizinho_comHeuristica\n",
            "[[2, 2, 2, 1], 3, 12]\n",
            "3\n",
            "4\n",
            "3\n",
            "3\n",
            "5\n",
            "4\n",
            "2\n",
            "O primeiro melhor vizinho encontrado foi:\n",
            "[2, 4, 2, 1]\n",
            "Com o heuristica de valor: \n",
            "2\n",
            "melhor_vizinho_comHeuristica\n",
            "[[2, 4, 2, 1], 2, 12]\n",
            "2\n",
            "2\n",
            "2\n",
            "3\n",
            "5\n",
            "3\n",
            "4\n",
            "1\n",
            "O primeiro melhor vizinho encontrado foi:\n",
            "[2, 4, 1, 1]\n",
            "Com o heuristica de valor: \n",
            "1\n",
            "melhor_vizinho_comHeuristica\n",
            "[[2, 4, 1, 1], 1, 12]\n",
            "1\n",
            "2\n",
            "3\n",
            "3\n",
            "3\n",
            "3\n",
            "3\n",
            "2\n",
            "1\n",
            "2\n",
            "3\n",
            "0\n",
            "O primeiro melhor vizinho encontrado foi:\n",
            "[2, 4, 1, 3]\n",
            "Com o heuristica de valor: \n",
            "0\n",
            "melhor_vizinho_comHeuristica\n",
            "[[2, 4, 1, 3], 0, 12]\n",
            "Solução Encontrada!!\n",
            "A solução do problema será:\n",
            "[2, 4, 1, 3]\n",
            "==================================================\n"
          ],
          "name": "stdout"
        },
        {
          "output_type": "execute_result",
          "data": {
            "text/plain": [
              "[[2, 4, 1, 3], 0, 48]"
            ]
          },
          "metadata": {
            "tags": []
          },
          "execution_count": 22
        }
      ]
    },
    {
      "cell_type": "code",
      "metadata": {
        "id": "fWLJoR538QRr"
      },
      "source": [
        "#Retorna um vizinho alearório dado um tabuleiro\n",
        "def busca_Vizinho_Aleatorio(tabuleiro):\n",
        "  #TO-DO: (done)\n",
        "  vizinhos = recuperaVizinhosDeTabulero(tabuleiro)\n",
        "  vizinhoAleatorio = vizinhos[randint(0,len(tabuleiro))]\n",
        "  print(\"O vizinho aleatório retornado será:\")\n",
        "  print(vizinhoAleatorio)\n",
        "  return [vizinhoAleatorio, len(vizinhos)]"
      ],
      "execution_count": null,
      "outputs": []
    },
    {
      "cell_type": "markdown",
      "metadata": {
        "id": "FM_221P9IXz8"
      },
      "source": [
        "# Implementação Simulated Annealing"
      ]
    },
    {
      "cell_type": "code",
      "metadata": {
        "id": "hAC6lxmto6MN"
      },
      "source": [
        "#Simula o problema usando Simulated Annealing\n",
        "def problema_N_Rainha_com_Simulted_Annealing(num_de_Rainhas, iter_Max, temp_Inicial, alpha):\n",
        "  tabuleiro = criar_Tabuleiro(num_de_Rainhas)\n",
        "\n",
        "  tabuleiro_Atual = tabuleiro\n",
        "  solucao = tabuleiro_Atual\n",
        "\n",
        "  temp_Atual = temp_Inicial\n",
        "  cont_vizinho_gerados = 0\n",
        "\n",
        "  for i in range(1, iter_Max):\n",
        "    if(temp_Atual <= 0):\n",
        "      break\n",
        "    \n",
        "    vizinho_Aleatorio = busca_Vizinho_Aleatorio(solucao)\n",
        "    heuristica_Vizinho_Aleatorio = num_Ataques_No_Tabuleiro(vizinho_Aleatorio[0])\n",
        "\n",
        "    diferenca_Custo = heuristica_Vizinho_Aleatorio - num_Ataques_No_Tabuleiro(tabuleiro_Atual)\n",
        "\n",
        "    cont_vizinho_gerados += vizinho_Aleatorio[1]\n",
        "\n",
        "    if(diferenca_Custo < 0):\n",
        "      tabuleiro_Atual = vizinho_Aleatorio[0]\n",
        "      if(num_Ataques_No_Tabuleiro(vizinho_Aleatorio[0]) <= num_Ataques_No_Tabuleiro(solucao)):\n",
        "        solucao = vizinho_Aleatorio[0]\n",
        "        if(heuristica_Vizinho_Aleatorio == 0):\n",
        "          break\n",
        "    else:\n",
        "      if(uniform(0,1) < exp(-(diferenca_Custo / temp_Atual))):\n",
        "        tabuleiro_Atual = vizinho_Aleatorio[0]\n",
        "    \n",
        "    temp_Atual = temp_Atual * alpha\n",
        "  print(\"-------------------------------------------------\")\n",
        "  print(\"A soluçao encontrada foi:\")\n",
        "  print(solucao)\n",
        "  print(\"Com a heuristica: \")\n",
        "  print(num_Ataques_No_Tabuleiro(solucao))\n",
        "  print(\"=================================================\")\n",
        "  return [solucao, cont_vizinho_gerados]\n",
        "\n",
        "\n",
        "problema_N_Rainha_com_Simulted_Annealing(4, 20, 100, 0.1)\n",
        "#problema_N_Rainha_com_Simulted_Annealing(8, 10, 50, 0.5)\n",
        "#problema_N_Rainha_com_Simulted_Annealing(16, 10, 50, 0.1)\n",
        "\n",
        "\n"
      ],
      "execution_count": null,
      "outputs": []
    }
  ]
}